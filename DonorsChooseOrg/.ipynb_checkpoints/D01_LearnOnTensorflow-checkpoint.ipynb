{
 "cells": [
  {
   "cell_type": "code",
   "execution_count": 1,
   "metadata": {},
   "outputs": [],
   "source": [
    "import pandas as pd\n",
    "import numpy as np\n",
    "from sklearn.ensemble import RandomForestClassifier\n",
    "from sklearn.model_selection import GridSearchCV\n",
    "from sklearn.svm import SVC\n",
    "from sklearn import metrics\n",
    "from sklearn.model_selection import cross_validate\n",
    "import tensorflow as tf"
   ]
  },
  {
   "cell_type": "code",
   "execution_count": 2,
   "metadata": {},
   "outputs": [
    {
     "name": "stdout",
     "output_type": "stream",
     "text": [
      "<class 'pandas.core.frame.DataFrame'>\n",
      "RangeIndex: 182080 entries, 0 to 182079\n",
      "Data columns (total 83 columns):\n",
      "project_is_approved                     182080 non-null int64\n",
      "project_grade_category_enc_0            182080 non-null int64\n",
      "project_grade_category_enc_1            182080 non-null int64\n",
      "project_grade_category_enc_2            182080 non-null int64\n",
      "school_state_enc_0                      182080 non-null int64\n",
      "school_state_enc_1                      182080 non-null int64\n",
      "school_state_enc_2                      182080 non-null int64\n",
      "school_state_enc_3                      182080 non-null int64\n",
      "school_state_enc_4                      182080 non-null int64\n",
      "school_state_enc_5                      182080 non-null int64\n",
      "teacher_prefix_enc_0                    182080 non-null int64\n",
      "teacher_prefix_enc_1                    182080 non-null int64\n",
      "teacher_prefix_enc_2                    182080 non-null int64\n",
      "project_submitted_datetime_year         182080 non-null int64\n",
      "project_submitted_datetime_month        182080 non-null int64\n",
      "project_submitted_datetime_day          182080 non-null int64\n",
      "project_submitted_datetime_dayofweek    182080 non-null int64\n",
      "project_subject_categories_enc_0        182080 non-null int64\n",
      "project_subject_categories_enc_1        182080 non-null int64\n",
      "project_subject_categories_enc_2        182080 non-null int64\n",
      "project_subject_categories_enc_3        182080 non-null int64\n",
      "project_subject_categories_enc_4        182080 non-null int64\n",
      "project_subject_categories_enc_5        182080 non-null int64\n",
      "project_subject_categories_enc_6        182080 non-null int64\n",
      "project_subject_categories_enc_7        182080 non-null int64\n",
      "project_subject_categories_enc_8        182080 non-null int64\n",
      "project_subject_categories_enc_9        182080 non-null int64\n",
      "project_subject_categories_enc_10       182080 non-null int64\n",
      "project_subject_categories_enc_11       182080 non-null int64\n",
      "project_subject_categories_enc_12       182080 non-null int64\n",
      "project_subject_categories_enc_13       182080 non-null int64\n",
      "project_subject_categories_enc_14       182080 non-null int64\n",
      "project_subject_categories_enc_15       182080 non-null int64\n",
      "project_subject_categories_enc_16       182080 non-null int64\n",
      "project_subject_categories_enc_17       182080 non-null int64\n",
      "project_subject_subcategories_enc_0     182080 non-null int64\n",
      "project_subject_subcategories_enc_1     182080 non-null int64\n",
      "project_subject_subcategories_enc_2     182080 non-null int64\n",
      "project_subject_subcategories_enc_3     182080 non-null int64\n",
      "project_subject_subcategories_enc_4     182080 non-null int64\n",
      "project_subject_subcategories_enc_5     182080 non-null int64\n",
      "project_subject_subcategories_enc_6     182080 non-null int64\n",
      "project_subject_subcategories_enc_7     182080 non-null int64\n",
      "project_subject_subcategories_enc_8     182080 non-null int64\n",
      "project_subject_subcategories_enc_9     182080 non-null int64\n",
      "project_subject_subcategories_enc_10    182080 non-null int64\n",
      "project_subject_subcategories_enc_11    182080 non-null int64\n",
      "project_subject_subcategories_enc_12    182080 non-null int64\n",
      "project_subject_subcategories_enc_13    182080 non-null int64\n",
      "project_subject_subcategories_enc_14    182080 non-null int64\n",
      "project_subject_subcategories_enc_15    182080 non-null int64\n",
      "project_subject_subcategories_enc_16    182080 non-null int64\n",
      "project_subject_subcategories_enc_17    182080 non-null int64\n",
      "project_subject_subcategories_enc_18    182080 non-null int64\n",
      "project_subject_subcategories_enc_19    182080 non-null int64\n",
      "project_subject_subcategories_enc_20    182080 non-null int64\n",
      "project_subject_subcategories_enc_21    182080 non-null int64\n",
      "project_subject_subcategories_enc_22    182080 non-null int64\n",
      "project_subject_subcategories_enc_23    182080 non-null int64\n",
      "project_subject_subcategories_enc_24    182080 non-null int64\n",
      "project_subject_subcategories_enc_25    182080 non-null int64\n",
      "project_subject_subcategories_enc_26    182080 non-null int64\n",
      "project_subject_subcategories_enc_27    182080 non-null int64\n",
      "project_subject_subcategories_enc_28    182080 non-null int64\n",
      "project_subject_subcategories_enc_29    182080 non-null int64\n",
      "project_subject_subcategories_enc_30    182080 non-null int64\n",
      "project_subject_subcategories_enc_31    182080 non-null int64\n",
      "project_subject_subcategories_enc_32    182080 non-null int64\n",
      "project_subject_subcategories_enc_33    182080 non-null int64\n",
      "project_subject_subcategories_enc_34    182080 non-null int64\n",
      "project_subject_subcategories_enc_35    182080 non-null int64\n",
      "project_subject_subcategories_enc_36    182080 non-null int64\n",
      "project_subject_subcategories_enc_37    182080 non-null int64\n",
      "project_subject_subcategories_enc_38    182080 non-null int64\n",
      "project_subject_subcategories_enc_39    182080 non-null int64\n",
      "project_subject_subcategories_enc_40    182080 non-null int64\n",
      "project_subject_subcategories_enc_41    182080 non-null int64\n",
      "project_subject_subcategories_enc_42    182080 non-null int64\n",
      "project_subject_subcategories_enc_43    182080 non-null int64\n",
      "project_subject_subcategories_enc_44    182080 non-null int64\n",
      "project_subject_subcategories_enc_45    182080 non-null int64\n",
      "project_subject_subcategories_enc_46    182080 non-null int64\n",
      "project_subject_subcategories_enc_47    182080 non-null int64\n",
      "dtypes: int64(83)\n",
      "memory usage: 115.3 MB\n"
     ]
    }
   ],
   "source": [
    "train_df = pd.read_csv(\"./train_df_encode.csv\")\n",
    "train_df.info()"
   ]
  },
  {
   "cell_type": "code",
   "execution_count": 3,
   "metadata": {},
   "outputs": [
    {
     "data": {
      "text/html": [
       "<div>\n",
       "<style scoped>\n",
       "    .dataframe tbody tr th:only-of-type {\n",
       "        vertical-align: middle;\n",
       "    }\n",
       "\n",
       "    .dataframe tbody tr th {\n",
       "        vertical-align: top;\n",
       "    }\n",
       "\n",
       "    .dataframe thead th {\n",
       "        text-align: right;\n",
       "    }\n",
       "</style>\n",
       "<table border=\"1\" class=\"dataframe\">\n",
       "  <thead>\n",
       "    <tr style=\"text-align: right;\">\n",
       "      <th></th>\n",
       "      <th>project_is_approved</th>\n",
       "      <th>project_grade_category_enc_0</th>\n",
       "      <th>project_grade_category_enc_1</th>\n",
       "      <th>project_grade_category_enc_2</th>\n",
       "      <th>school_state_enc_0</th>\n",
       "      <th>school_state_enc_1</th>\n",
       "      <th>school_state_enc_2</th>\n",
       "      <th>school_state_enc_3</th>\n",
       "      <th>school_state_enc_4</th>\n",
       "      <th>school_state_enc_5</th>\n",
       "      <th>...</th>\n",
       "      <th>project_subject_subcategories_enc_38</th>\n",
       "      <th>project_subject_subcategories_enc_39</th>\n",
       "      <th>project_subject_subcategories_enc_40</th>\n",
       "      <th>project_subject_subcategories_enc_41</th>\n",
       "      <th>project_subject_subcategories_enc_42</th>\n",
       "      <th>project_subject_subcategories_enc_43</th>\n",
       "      <th>project_subject_subcategories_enc_44</th>\n",
       "      <th>project_subject_subcategories_enc_45</th>\n",
       "      <th>project_subject_subcategories_enc_46</th>\n",
       "      <th>project_subject_subcategories_enc_47</th>\n",
       "    </tr>\n",
       "  </thead>\n",
       "  <tbody>\n",
       "    <tr>\n",
       "      <th>0</th>\n",
       "      <td>1</td>\n",
       "      <td>0</td>\n",
       "      <td>0</td>\n",
       "      <td>0</td>\n",
       "      <td>0</td>\n",
       "      <td>0</td>\n",
       "      <td>0</td>\n",
       "      <td>0</td>\n",
       "      <td>0</td>\n",
       "      <td>0</td>\n",
       "      <td>...</td>\n",
       "      <td>0</td>\n",
       "      <td>0</td>\n",
       "      <td>0</td>\n",
       "      <td>0</td>\n",
       "      <td>0</td>\n",
       "      <td>0</td>\n",
       "      <td>0</td>\n",
       "      <td>0</td>\n",
       "      <td>0</td>\n",
       "      <td>0</td>\n",
       "    </tr>\n",
       "    <tr>\n",
       "      <th>1</th>\n",
       "      <td>0</td>\n",
       "      <td>0</td>\n",
       "      <td>0</td>\n",
       "      <td>1</td>\n",
       "      <td>0</td>\n",
       "      <td>0</td>\n",
       "      <td>0</td>\n",
       "      <td>0</td>\n",
       "      <td>0</td>\n",
       "      <td>1</td>\n",
       "      <td>...</td>\n",
       "      <td>0</td>\n",
       "      <td>0</td>\n",
       "      <td>0</td>\n",
       "      <td>0</td>\n",
       "      <td>1</td>\n",
       "      <td>1</td>\n",
       "      <td>0</td>\n",
       "      <td>0</td>\n",
       "      <td>0</td>\n",
       "      <td>0</td>\n",
       "    </tr>\n",
       "    <tr>\n",
       "      <th>2</th>\n",
       "      <td>1</td>\n",
       "      <td>0</td>\n",
       "      <td>0</td>\n",
       "      <td>1</td>\n",
       "      <td>0</td>\n",
       "      <td>0</td>\n",
       "      <td>0</td>\n",
       "      <td>0</td>\n",
       "      <td>1</td>\n",
       "      <td>0</td>\n",
       "      <td>...</td>\n",
       "      <td>1</td>\n",
       "      <td>0</td>\n",
       "      <td>0</td>\n",
       "      <td>0</td>\n",
       "      <td>0</td>\n",
       "      <td>0</td>\n",
       "      <td>0</td>\n",
       "      <td>0</td>\n",
       "      <td>0</td>\n",
       "      <td>1</td>\n",
       "    </tr>\n",
       "    <tr>\n",
       "      <th>3</th>\n",
       "      <td>0</td>\n",
       "      <td>0</td>\n",
       "      <td>0</td>\n",
       "      <td>1</td>\n",
       "      <td>0</td>\n",
       "      <td>0</td>\n",
       "      <td>0</td>\n",
       "      <td>0</td>\n",
       "      <td>1</td>\n",
       "      <td>1</td>\n",
       "      <td>...</td>\n",
       "      <td>0</td>\n",
       "      <td>0</td>\n",
       "      <td>0</td>\n",
       "      <td>0</td>\n",
       "      <td>0</td>\n",
       "      <td>0</td>\n",
       "      <td>0</td>\n",
       "      <td>0</td>\n",
       "      <td>1</td>\n",
       "      <td>0</td>\n",
       "    </tr>\n",
       "    <tr>\n",
       "      <th>4</th>\n",
       "      <td>1</td>\n",
       "      <td>0</td>\n",
       "      <td>1</td>\n",
       "      <td>0</td>\n",
       "      <td>0</td>\n",
       "      <td>0</td>\n",
       "      <td>0</td>\n",
       "      <td>1</td>\n",
       "      <td>0</td>\n",
       "      <td>0</td>\n",
       "      <td>...</td>\n",
       "      <td>0</td>\n",
       "      <td>0</td>\n",
       "      <td>0</td>\n",
       "      <td>0</td>\n",
       "      <td>0</td>\n",
       "      <td>0</td>\n",
       "      <td>0</td>\n",
       "      <td>0</td>\n",
       "      <td>1</td>\n",
       "      <td>0</td>\n",
       "    </tr>\n",
       "  </tbody>\n",
       "</table>\n",
       "<p>5 rows × 83 columns</p>\n",
       "</div>"
      ],
      "text/plain": [
       "   project_is_approved  project_grade_category_enc_0  \\\n",
       "0                    1                             0   \n",
       "1                    0                             0   \n",
       "2                    1                             0   \n",
       "3                    0                             0   \n",
       "4                    1                             0   \n",
       "\n",
       "   project_grade_category_enc_1  project_grade_category_enc_2  \\\n",
       "0                             0                             0   \n",
       "1                             0                             1   \n",
       "2                             0                             1   \n",
       "3                             0                             1   \n",
       "4                             1                             0   \n",
       "\n",
       "   school_state_enc_0  school_state_enc_1  school_state_enc_2  \\\n",
       "0                   0                   0                   0   \n",
       "1                   0                   0                   0   \n",
       "2                   0                   0                   0   \n",
       "3                   0                   0                   0   \n",
       "4                   0                   0                   0   \n",
       "\n",
       "   school_state_enc_3  school_state_enc_4  school_state_enc_5  \\\n",
       "0                   0                   0                   0   \n",
       "1                   0                   0                   1   \n",
       "2                   0                   1                   0   \n",
       "3                   0                   1                   1   \n",
       "4                   1                   0                   0   \n",
       "\n",
       "                   ...                   project_subject_subcategories_enc_38  \\\n",
       "0                  ...                                                      0   \n",
       "1                  ...                                                      0   \n",
       "2                  ...                                                      1   \n",
       "3                  ...                                                      0   \n",
       "4                  ...                                                      0   \n",
       "\n",
       "   project_subject_subcategories_enc_39  project_subject_subcategories_enc_40  \\\n",
       "0                                     0                                     0   \n",
       "1                                     0                                     0   \n",
       "2                                     0                                     0   \n",
       "3                                     0                                     0   \n",
       "4                                     0                                     0   \n",
       "\n",
       "   project_subject_subcategories_enc_41  project_subject_subcategories_enc_42  \\\n",
       "0                                     0                                     0   \n",
       "1                                     0                                     1   \n",
       "2                                     0                                     0   \n",
       "3                                     0                                     0   \n",
       "4                                     0                                     0   \n",
       "\n",
       "   project_subject_subcategories_enc_43  project_subject_subcategories_enc_44  \\\n",
       "0                                     0                                     0   \n",
       "1                                     1                                     0   \n",
       "2                                     0                                     0   \n",
       "3                                     0                                     0   \n",
       "4                                     0                                     0   \n",
       "\n",
       "   project_subject_subcategories_enc_45  project_subject_subcategories_enc_46  \\\n",
       "0                                     0                                     0   \n",
       "1                                     0                                     0   \n",
       "2                                     0                                     0   \n",
       "3                                     0                                     1   \n",
       "4                                     0                                     1   \n",
       "\n",
       "   project_subject_subcategories_enc_47  \n",
       "0                                     0  \n",
       "1                                     0  \n",
       "2                                     1  \n",
       "3                                     0  \n",
       "4                                     0  \n",
       "\n",
       "[5 rows x 83 columns]"
      ]
     },
     "execution_count": 3,
     "metadata": {},
     "output_type": "execute_result"
    }
   ],
   "source": [
    "train_df.head(5)"
   ]
  },
  {
   "cell_type": "code",
   "execution_count": 4,
   "metadata": {},
   "outputs": [],
   "source": [
    "train_data = train_df.values\n",
    "xs = train_data[:, 1:]  # 正解データ列以外を抽出\n",
    "y = train_data[:, 0]  # 正解データ列のみ抽出"
   ]
  },
  {
   "cell_type": "code",
   "execution_count": 5,
   "metadata": {},
   "outputs": [
    {
     "data": {
      "text/plain": [
       "(182080, 82)"
      ]
     },
     "execution_count": 5,
     "metadata": {},
     "output_type": "execute_result"
    }
   ],
   "source": [
    "xs.shape"
   ]
  },
  {
   "cell_type": "code",
   "execution_count": 6,
   "metadata": {},
   "outputs": [
    {
     "data": {
      "text/plain": [
       "(182080,)"
      ]
     },
     "execution_count": 6,
     "metadata": {},
     "output_type": "execute_result"
    }
   ],
   "source": [
    "y.shape"
   ]
  },
  {
   "cell_type": "code",
   "execution_count": 7,
   "metadata": {},
   "outputs": [
    {
     "name": "stdout",
     "output_type": "stream",
     "text": [
      "Epoch 1/5\n",
      "182080/182080 [==============================] - 20s 111us/step - loss: 2.4283 - acc: 0.8477\n",
      "Epoch 2/5\n",
      "182080/182080 [==============================] - 19s 102us/step - loss: 2.4283 - acc: 0.8477\n",
      "Epoch 3/5\n",
      "182080/182080 [==============================] - 19s 102us/step - loss: 2.4283 - acc: 0.8477\n",
      "Epoch 4/5\n",
      "182080/182080 [==============================] - 19s 102us/step - loss: 2.4283 - acc: 0.8477\n",
      "Epoch 5/5\n",
      "182080/182080 [==============================] - 19s 103us/step - loss: 2.4283 - acc: 0.8477\n",
      "182080/182080 [==============================] - 6s 35us/step\n"
     ]
    },
    {
     "data": {
      "text/plain": [
       "[2.4283069114902944, 0.8476823374340949]"
      ]
     },
     "execution_count": 7,
     "metadata": {},
     "output_type": "execute_result"
    }
   ],
   "source": [
    "model = tf.keras.models.Sequential([\n",
    "  tf.keras.layers.Flatten(),\n",
    "  tf.keras.layers.Dense(82, activation=tf.nn.relu),\n",
    "  tf.keras.layers.Dropout(0.2),\n",
    "\n",
    "  tf.keras.layers.Dense(10, activation=tf.nn.relu), # あってもなくても同じ\n",
    "  tf.keras.layers.Dropout(0.2),\n",
    "\n",
    "#  tf.keras.layers.Dense(2, activation=tf.nn.softmax)\n",
    "  tf.keras.layers.Dense(1, activation=tf.nn.softmax)\n",
    "])\n",
    "model.compile(optimizer='adam',\n",
    "#              loss='sparse_categorical_crossentropy',\n",
    "              loss='binary_crossentropy',\n",
    "              metrics=['accuracy'])\n",
    "\n",
    "model.fit(xs, y, epochs=5)\n",
    "model.evaluate(xs, y)"
   ]
  },
  {
   "cell_type": "code",
   "execution_count": 8,
   "metadata": {},
   "outputs": [
    {
     "name": "stdout",
     "output_type": "stream",
     "text": [
      "<class 'pandas.core.frame.DataFrame'>\n",
      "RangeIndex: 78035 entries, 0 to 78034\n",
      "Data columns (total 15 columns):\n",
      "id                                              78035 non-null object\n",
      "teacher_id                                      78035 non-null object\n",
      "teacher_prefix                                  78034 non-null object\n",
      "school_state                                    78035 non-null object\n",
      "project_submitted_datetime                      78035 non-null object\n",
      "project_grade_category                          78035 non-null object\n",
      "project_subject_categories                      78035 non-null object\n",
      "project_subject_subcategories                   78035 non-null object\n",
      "project_title                                   78035 non-null object\n",
      "project_essay_1                                 78035 non-null object\n",
      "project_essay_2                                 78035 non-null object\n",
      "project_essay_3                                 2704 non-null object\n",
      "project_essay_4                                 2704 non-null object\n",
      "project_resource_summary                        78035 non-null object\n",
      "teacher_number_of_previously_posted_projects    78035 non-null int64\n",
      "dtypes: int64(1), object(14)\n",
      "memory usage: 8.9+ MB\n"
     ]
    },
    {
     "name": "stderr",
     "output_type": "stream",
     "text": [
      "/opt/conda/lib/python3.6/site-packages/IPython/core/interactiveshell.py:3018: DtypeWarning: Columns (11,12) have mixed types. Specify dtype option on import or set low_memory=False.\n",
      "  interactivity=interactivity, compiler=compiler, result=result)\n"
     ]
    }
   ],
   "source": [
    "test_df = pd.read_csv(\"./Data/test.csv\")\n",
    "test_df.info()"
   ]
  },
  {
   "cell_type": "code",
   "execution_count": 9,
   "metadata": {},
   "outputs": [],
   "source": [
    "test_df_encode = pd.DataFrame()"
   ]
  },
  {
   "cell_type": "code",
   "execution_count": 10,
   "metadata": {},
   "outputs": [],
   "source": [
    "from my_modules.my_encoder import CategoryValueEncoder as CVE\n",
    "from my_modules.my_encoder import TextValueEncoder as TVE"
   ]
  },
  {
   "cell_type": "code",
   "execution_count": 11,
   "metadata": {},
   "outputs": [],
   "source": [
    "test_df_encode = pd.concat([test_df_encode, CVE(test_df['project_grade_category']).to_binary_encoding()], axis=1) "
   ]
  },
  {
   "cell_type": "code",
   "execution_count": 12,
   "metadata": {},
   "outputs": [],
   "source": [
    "test_df_encode = pd.concat([test_df_encode, CVE(test_df['school_state']).to_binary_encoding()], axis=1) "
   ]
  },
  {
   "cell_type": "code",
   "execution_count": 13,
   "metadata": {},
   "outputs": [],
   "source": [
    "test_df_encode = pd.concat([test_df_encode, CVE(test_df['teacher_prefix']).to_binary_encoding()], axis=1) "
   ]
  },
  {
   "cell_type": "code",
   "execution_count": 14,
   "metadata": {},
   "outputs": [],
   "source": [
    "project_submitted_datetime_year = pd.to_datetime(test_df[\"project_submitted_datetime\"]).dt.year\n",
    "project_submitted_datetime_year = project_submitted_datetime_year.rename('project_submitted_datetime_year', axis='columns')\n",
    "\n",
    "project_submitted_datetime_month = pd.to_datetime(test_df[\"project_submitted_datetime\"]).dt.month\n",
    "project_submitted_datetime_month = project_submitted_datetime_month.rename('project_submitted_datetime_month', axis='columns')\n",
    "\n",
    "project_submitted_datetime_month = pd.to_datetime(test_df[\"project_submitted_datetime\"]).dt.month\n",
    "project_submitted_datetime_month = project_submitted_datetime_month.rename('project_submitted_datetime_month', axis='columns')\n",
    "\n",
    "project_submitted_datetime_day = pd.to_datetime(test_df[\"project_submitted_datetime\"]).dt.day\n",
    "project_submitted_datetime_day = project_submitted_datetime_day.rename('project_submitted_datetime_day', axis='columns')\n",
    "\n",
    "project_submitted_datetime_dayofweek = pd.to_datetime(test_df[\"project_submitted_datetime\"]).dt.dayofweek\n",
    "project_submitted_datetime_dayofweek = project_submitted_datetime_dayofweek.rename('project_submitted_datetime_dayofweek', axis='columns')\n",
    "\n",
    "test_df_encode = pd.concat([test_df_encode, project_submitted_datetime_year, project_submitted_datetime_month, project_submitted_datetime_day, project_submitted_datetime_dayofweek], axis=1) "
   ]
  },
  {
   "cell_type": "code",
   "execution_count": 15,
   "metadata": {},
   "outputs": [],
   "source": [
    "test_df_encode = pd.concat([test_df_encode, TVE(test_df['project_subject_categories']).to_bow_encoding()], axis=1) "
   ]
  },
  {
   "cell_type": "code",
   "execution_count": 16,
   "metadata": {},
   "outputs": [],
   "source": [
    "test_df_encode = pd.concat([test_df_encode, TVE(test_df['project_subject_subcategories']).to_bow_encoding()], axis=1) "
   ]
  },
  {
   "cell_type": "code",
   "execution_count": 17,
   "metadata": {},
   "outputs": [],
   "source": [
    "test_data = test_df_encode.values\n",
    "xs_test = test_data[:, :]"
   ]
  },
  {
   "cell_type": "code",
   "execution_count": 18,
   "metadata": {},
   "outputs": [
    {
     "name": "stdout",
     "output_type": "stream",
     "text": [
      "78035/78035 [==============================] - 1s 6us/step\n"
     ]
    }
   ],
   "source": [
    "y_test = model.predict_proba(xs_test, batch_size=1000, verbose=1)"
   ]
  },
  {
   "cell_type": "code",
   "execution_count": 19,
   "metadata": {},
   "outputs": [
    {
     "data": {
      "text/plain": [
       "array([[1.],\n",
       "       [1.],\n",
       "       [1.],\n",
       "       [1.],\n",
       "       [1.],\n",
       "       [1.],\n",
       "       [1.],\n",
       "       [1.],\n",
       "       [1.],\n",
       "       [1.],\n",
       "       [1.],\n",
       "       [1.],\n",
       "       [1.],\n",
       "       [1.],\n",
       "       [1.],\n",
       "       [1.],\n",
       "       [1.],\n",
       "       [1.],\n",
       "       [1.],\n",
       "       [1.],\n",
       "       [1.],\n",
       "       [1.],\n",
       "       [1.],\n",
       "       [1.],\n",
       "       [1.],\n",
       "       [1.],\n",
       "       [1.],\n",
       "       [1.],\n",
       "       [1.],\n",
       "       [1.],\n",
       "       [1.],\n",
       "       [1.],\n",
       "       [1.],\n",
       "       [1.],\n",
       "       [1.],\n",
       "       [1.],\n",
       "       [1.],\n",
       "       [1.],\n",
       "       [1.],\n",
       "       [1.],\n",
       "       [1.],\n",
       "       [1.],\n",
       "       [1.],\n",
       "       [1.],\n",
       "       [1.],\n",
       "       [1.],\n",
       "       [1.],\n",
       "       [1.],\n",
       "       [1.],\n",
       "       [1.],\n",
       "       [1.],\n",
       "       [1.],\n",
       "       [1.],\n",
       "       [1.],\n",
       "       [1.],\n",
       "       [1.],\n",
       "       [1.],\n",
       "       [1.],\n",
       "       [1.],\n",
       "       [1.],\n",
       "       [1.],\n",
       "       [1.],\n",
       "       [1.],\n",
       "       [1.],\n",
       "       [1.],\n",
       "       [1.],\n",
       "       [1.],\n",
       "       [1.],\n",
       "       [1.],\n",
       "       [1.],\n",
       "       [1.],\n",
       "       [1.],\n",
       "       [1.],\n",
       "       [1.],\n",
       "       [1.],\n",
       "       [1.],\n",
       "       [1.],\n",
       "       [1.],\n",
       "       [1.],\n",
       "       [1.],\n",
       "       [1.],\n",
       "       [1.],\n",
       "       [1.],\n",
       "       [1.],\n",
       "       [1.],\n",
       "       [1.],\n",
       "       [1.],\n",
       "       [1.],\n",
       "       [1.],\n",
       "       [1.],\n",
       "       [1.],\n",
       "       [1.],\n",
       "       [1.],\n",
       "       [1.],\n",
       "       [1.],\n",
       "       [1.],\n",
       "       [1.],\n",
       "       [1.],\n",
       "       [1.],\n",
       "       [1.]], dtype=float32)"
      ]
     },
     "execution_count": 19,
     "metadata": {},
     "output_type": "execute_result"
    }
   ],
   "source": [
    "y_test[0:100,:]"
   ]
  },
  {
   "cell_type": "code",
   "execution_count": null,
   "metadata": {},
   "outputs": [],
   "source": []
  }
 ],
 "metadata": {
  "kernelspec": {
   "display_name": "Python 3",
   "language": "python",
   "name": "python3"
  },
  "language_info": {
   "codemirror_mode": {
    "name": "ipython",
    "version": 3
   },
   "file_extension": ".py",
   "mimetype": "text/x-python",
   "name": "python",
   "nbconvert_exporter": "python",
   "pygments_lexer": "ipython3",
   "version": "3.6.6"
  }
 },
 "nbformat": 4,
 "nbformat_minor": 2
}
