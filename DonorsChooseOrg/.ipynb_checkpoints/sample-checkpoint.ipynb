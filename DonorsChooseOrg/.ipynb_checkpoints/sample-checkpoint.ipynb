{
 "cells": [
  {
   "cell_type": "code",
   "execution_count": null,
   "metadata": {},
   "outputs": [],
   "source": [
    "from numpy import argmax\n",
    "# define input string\n",
    "data = 'hello world'\n",
    "print(data)\n",
    "# define universe of possible input values\n",
    "alphabet = 'abcdefghijklmnopqrstuvwxyz '\n",
    "# define a mapping of chars to integers\n",
    "char_to_int = dict((c, i) for i, c in enumerate(alphabet))\n",
    "int_to_char = dict((i, c) for i, c in enumerate(alphabet))\n",
    "# integer encode input data\n",
    "integer_encoded = [char_to_int[char] for char in data]\n",
    "print(integer_encoded)\n",
    "# one hot encode\n",
    "onehot_encoded = list()\n",
    "for value in integer_encoded:\n",
    "\tletter = [0 for _ in range(len(alphabet))]\n",
    "\tletter[value] = 1\n",
    "\tonehot_encoded.append(letter)\n",
    "print(onehot_encoded)\n",
    "# invert encoding\n",
    "inverted = int_to_char[argmax(onehot_encoded[0])]\n",
    "print(inverted)"
   ]
  },
  {
   "cell_type": "code",
   "execution_count": null,
   "metadata": {},
   "outputs": [],
   "source": [
    "from numpy import argmax\n",
    "import numpy as np\n",
    "import pandas as pd\n",
    "\n",
    "data = pd.Series([\"apple\",\"amazon\",\"google\",\"facebook\",\"microsoft\",\"apple\",\"apple\",\"amazon\",\"amazon\",\"google\", None])\n",
    "print(data)"
   ]
  },
  {
   "cell_type": "code",
   "execution_count": null,
   "metadata": {},
   "outputs": [],
   "source": [
    "unique_data = pd.unique(data)\n",
    "print(unique_data)"
   ]
  },
  {
   "cell_type": "code",
   "execution_count": null,
   "metadata": {},
   "outputs": [],
   "source": [
    "char_to_int = dict((c, i) for i, c in enumerate(unique_data))\n",
    "char_to_int"
   ]
  },
  {
   "cell_type": "code",
   "execution_count": null,
   "metadata": {},
   "outputs": [],
   "source": [
    "int_to_char = dict((i, c) for i, c in enumerate(unique_data))\n",
    "int_to_char"
   ]
  },
  {
   "cell_type": "code",
   "execution_count": null,
   "metadata": {},
   "outputs": [],
   "source": [
    "#label encoding\n",
    "label_encoded = [char_to_int[char] for char in data]\n",
    "print(label_encoded)"
   ]
  },
  {
   "cell_type": "code",
   "execution_count": null,
   "metadata": {},
   "outputs": [],
   "source": [
    "#one-hot encoding\n",
    "integer_encoded = [char_to_int[char] for char in data]\n",
    "onehot_encoded = list()\n",
    "for value in integer_encoded:\n",
    "\tletter = [0 for _ in range(len(unique_data))]\n",
    "\tletter[value] = 1\n",
    "\tonehot_encoded.append(letter)\n",
    "print(onehot_encoded)"
   ]
  },
  {
   "cell_type": "code",
   "execution_count": null,
   "metadata": {},
   "outputs": [],
   "source": [
    "#binary encoding\n",
    "integer_encoded = [char_to_int[char] for char in data]\n",
    "binary_encoding = map(lambda x: list(\"{0:b}\".format(x).zfill(10+1)), integer_encoded)\n",
    "print(list(binary_encoding))"
   ]
  },
  {
   "cell_type": "code",
   "execution_count": null,
   "metadata": {},
   "outputs": [],
   "source": [
    "import sys\n",
    "sys.path"
   ]
  },
  {
   "cell_type": "markdown",
   "metadata": {},
   "source": [
    "--実行モジュール.py or .ipynb\n",
    "--my_modules(パッケージ)\n",
    "  --init.py(パッケージを再帰的に読み込むためのダミーファイル)\n",
    "  --my_module.py(module)\n",
    "    --my_class(class)\n",
    "      --my_def(function)\n",
    "\n",
    "1.パッケージはimportできない \n",
    "import my_modules\n",
    "->error\n",
    "\n",
    "2.moduleはimportできる fromを使用してもよい \n",
    "import my_modules.my_module\n",
    "-> ok\n",
    "\n",
    "from my_modules import my_module\n",
    "-> ok\n",
    "\n",
    "3.classはimportできるが、fromを使用しないといけない(.でパスを指定できない)\n",
    "import my_modules.my_module.myclass\n",
    "-> error\n",
    "\n",
    "from my_modules.my_module import myclass\n",
    "-> ok\n",
    "\n"
   ]
  },
  {
   "cell_type": "code",
   "execution_count": null,
   "metadata": {},
   "outputs": [],
   "source": [
    "import numpy as np\n",
    "import pandas as pd\n",
    "from my_modules.my_encoder import CategoryValueEncoder as CVE\n",
    "\n",
    "data = pd.Series([\"apple\",\"amazon\",\"google\",\"facebook\",\"microsoft\",\"apple\",\"apple\",\"amazon\",\"amazon\",\"google\", None])\n",
    "encoder = CVE(data)\n",
    "encoded = encoder.to_one_hot_encoding()\n",
    "print(encoded)"
   ]
  },
  {
   "cell_type": "code",
   "execution_count": null,
   "metadata": {},
   "outputs": [],
   "source": [
    "import numpy as np\n",
    "import pandas as pd\n",
    "import my_modules.my_encoder as my_encoder\n",
    "\n",
    "data = pd.Series([\"apple\",\"amazon\",\"google\",\"facebook\",\"microsoft\",\"apple\",\"apple\",\"amazon\",\"amazon\",\"google\", None])\n",
    "encoder = my_encoder.CategoryValueEncoder(data)\n",
    "encoded = encoder.to_binary_encoding()\n",
    "print(encoded)"
   ]
  },
  {
   "cell_type": "code",
   "execution_count": 3,
   "metadata": {},
   "outputs": [
    {
     "name": "stdout",
     "output_type": "stream",
     "text": [
      "[['0', '0', '0', '0', '0', '0', '0', '0', '0', '0', '0'], ['0', '0', '0', '0', '0', '0', '0', '0', '0', '0', '1'], ['0', '0', '0', '0', '0', '0', '0', '0', '0', '1', '0'], ['0', '0', '0', '0', '0', '0', '0', '0', '0', '1', '1'], ['0', '0', '0', '0', '0', '0', '0', '0', '1', '0', '0'], ['0', '0', '0', '0', '0', '0', '0', '0', '0', '0', '0'], ['0', '0', '0', '0', '0', '0', '0', '0', '0', '0', '0'], ['0', '0', '0', '0', '0', '0', '0', '0', '0', '0', '1'], ['0', '0', '0', '0', '0', '0', '0', '0', '0', '0', '1'], ['0', '0', '0', '0', '0', '0', '0', '0', '0', '1', '0'], ['0', '0', '0', '0', '0', '0', '0', '0', '1', '0', '1']]\n"
     ]
    }
   ],
   "source": [
    "import numpy as np\n",
    "import pandas as pd\n",
    "from my_modules import my_encoder\n",
    "\n",
    "data = pd.Series([\"apple\",\"amazon\",\"google\",\"facebook\",\"microsoft\",\"apple\",\"apple\",\"amazon\",\"amazon\",\"google\", None])\n",
    "encoder = my_encoder.CategoryValueEncoder(data)\n",
    "encoded = encoder.to_binary_encoding()\n",
    "print(encoded)"
   ]
  },
  {
   "cell_type": "code",
   "execution_count": null,
   "metadata": {},
   "outputs": [],
   "source": []
  }
 ],
 "metadata": {
  "kernelspec": {
   "display_name": "Python 3",
   "language": "python",
   "name": "python3"
  },
  "language_info": {
   "codemirror_mode": {
    "name": "ipython",
    "version": 3
   },
   "file_extension": ".py",
   "mimetype": "text/x-python",
   "name": "python",
   "nbconvert_exporter": "python",
   "pygments_lexer": "ipython3",
   "version": "3.6.6"
  }
 },
 "nbformat": 4,
 "nbformat_minor": 2
}
