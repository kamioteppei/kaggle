{
 "cells": [
  {
   "cell_type": "code",
   "execution_count": 1,
   "metadata": {},
   "outputs": [],
   "source": [
    "import pandas as pd\n",
    "import numpy as np\n",
    "from sklearn.ensemble import RandomForestClassifier\n",
    "from sklearn.model_selection import GridSearchCV\n",
    "from sklearn.svm import SVC\n",
    "from sklearn import metrics\n",
    "from sklearn.model_selection import cross_validate\n",
    "from xgboost import XGBClassifier\n",
    "%matplotlib inline\n",
    "import matplotlib.pyplot as plt\n",
    "from sklearn.preprocessing import LabelEncoder\n",
    "import seaborn as sns"
   ]
  },
  {
   "cell_type": "code",
   "execution_count": 2,
   "metadata": {},
   "outputs": [
    {
     "name": "stdout",
     "output_type": "stream",
     "text": [
      "<class 'pandas.core.frame.DataFrame'>\n",
      "RangeIndex: 1541272 entries, 0 to 1541271\n",
      "Data columns (total 4 columns):\n",
      "id             1541272 non-null object\n",
      "description    1540980 non-null object\n",
      "quantity       1541272 non-null int64\n",
      "price          1541272 non-null float64\n",
      "dtypes: float64(1), int64(1), object(2)\n",
      "memory usage: 47.0+ MB\n"
     ]
    }
   ],
   "source": [
    "train_df = pd.read_csv(\"./Data/resources.csv\")\n",
    "train_df.info()"
   ]
  },
  {
   "cell_type": "code",
   "execution_count": 3,
   "metadata": {},
   "outputs": [
    {
     "data": {
      "text/plain": [
       "0    149.00\n",
       "1     44.85\n",
       "2      8.45\n",
       "3     27.18\n",
       "4     74.85\n",
       "5     16.99\n",
       "6      9.95\n",
       "7     20.22\n",
       "8     19.90\n",
       "9     18.04\n",
       "Name: total_price, dtype: float64"
      ]
     },
     "execution_count": 3,
     "metadata": {},
     "output_type": "execute_result"
    }
   ],
   "source": [
    "total_price = pd.Series(train_df['quantity'].fillna(0.0).astype(int) * train_df['price'].fillna(0.0).astype(float))\n",
    "total_price = total_price.rename('total_price', axis='columns')\n",
    "total_price.head(10)"
   ]
  },
  {
   "cell_type": "code",
   "execution_count": 4,
   "metadata": {},
   "outputs": [
    {
     "data": {
      "text/html": [
       "<div>\n",
       "<style scoped>\n",
       "    .dataframe tbody tr th:only-of-type {\n",
       "        vertical-align: middle;\n",
       "    }\n",
       "\n",
       "    .dataframe tbody tr th {\n",
       "        vertical-align: top;\n",
       "    }\n",
       "\n",
       "    .dataframe thead th {\n",
       "        text-align: right;\n",
       "    }\n",
       "</style>\n",
       "<table border=\"1\" class=\"dataframe\">\n",
       "  <thead>\n",
       "    <tr style=\"text-align: right;\">\n",
       "      <th></th>\n",
       "      <th>id</th>\n",
       "      <th>description</th>\n",
       "      <th>quantity</th>\n",
       "      <th>price</th>\n",
       "      <th>total_price</th>\n",
       "    </tr>\n",
       "  </thead>\n",
       "  <tbody>\n",
       "    <tr>\n",
       "      <th>0</th>\n",
       "      <td>p233245</td>\n",
       "      <td>LC652 - Lakeshore Double-Space Mobile Drying Rack</td>\n",
       "      <td>1</td>\n",
       "      <td>149.00</td>\n",
       "      <td>149.00</td>\n",
       "    </tr>\n",
       "    <tr>\n",
       "      <th>1</th>\n",
       "      <td>p069063</td>\n",
       "      <td>Bouncy Bands for Desks (Blue support pipes)</td>\n",
       "      <td>3</td>\n",
       "      <td>14.95</td>\n",
       "      <td>44.85</td>\n",
       "    </tr>\n",
       "    <tr>\n",
       "      <th>2</th>\n",
       "      <td>p069063</td>\n",
       "      <td>Cory Stories: A Kid's Book About Living With Adhd</td>\n",
       "      <td>1</td>\n",
       "      <td>8.45</td>\n",
       "      <td>8.45</td>\n",
       "    </tr>\n",
       "    <tr>\n",
       "      <th>3</th>\n",
       "      <td>p069063</td>\n",
       "      <td>Dixon Ticonderoga Wood-Cased #2 HB Pencils, Bo...</td>\n",
       "      <td>2</td>\n",
       "      <td>13.59</td>\n",
       "      <td>27.18</td>\n",
       "    </tr>\n",
       "    <tr>\n",
       "      <th>4</th>\n",
       "      <td>p069063</td>\n",
       "      <td>EDUCATIONAL INSIGHTS FLUORESCENT LIGHT FILTERS...</td>\n",
       "      <td>3</td>\n",
       "      <td>24.95</td>\n",
       "      <td>74.85</td>\n",
       "    </tr>\n",
       "    <tr>\n",
       "      <th>5</th>\n",
       "      <td>p069063</td>\n",
       "      <td>Last to Finish: A Story About the Smartest Boy...</td>\n",
       "      <td>1</td>\n",
       "      <td>16.99</td>\n",
       "      <td>16.99</td>\n",
       "    </tr>\n",
       "    <tr>\n",
       "      <th>6</th>\n",
       "      <td>p069063</td>\n",
       "      <td>Mrs. Gorski, I Think I Have the Wiggle Fidgets...</td>\n",
       "      <td>1</td>\n",
       "      <td>9.95</td>\n",
       "      <td>9.95</td>\n",
       "    </tr>\n",
       "    <tr>\n",
       "      <th>7</th>\n",
       "      <td>p069063</td>\n",
       "      <td>See-N-Read 1503905CQ Reading Tool - Book Size,...</td>\n",
       "      <td>2</td>\n",
       "      <td>10.11</td>\n",
       "      <td>20.22</td>\n",
       "    </tr>\n",
       "    <tr>\n",
       "      <th>8</th>\n",
       "      <td>p096795</td>\n",
       "      <td>Brewster WPD90218 Wall Pops Flirt Dot, Set of ...</td>\n",
       "      <td>2</td>\n",
       "      <td>9.95</td>\n",
       "      <td>19.90</td>\n",
       "    </tr>\n",
       "    <tr>\n",
       "      <th>9</th>\n",
       "      <td>p096795</td>\n",
       "      <td>Brewster Wall Pops WPE99065 Peel &amp; Stick Calyp...</td>\n",
       "      <td>2</td>\n",
       "      <td>9.02</td>\n",
       "      <td>18.04</td>\n",
       "    </tr>\n",
       "  </tbody>\n",
       "</table>\n",
       "</div>"
      ],
      "text/plain": [
       "        id                                        description  quantity  \\\n",
       "0  p233245  LC652 - Lakeshore Double-Space Mobile Drying Rack         1   \n",
       "1  p069063        Bouncy Bands for Desks (Blue support pipes)         3   \n",
       "2  p069063  Cory Stories: A Kid's Book About Living With Adhd         1   \n",
       "3  p069063  Dixon Ticonderoga Wood-Cased #2 HB Pencils, Bo...         2   \n",
       "4  p069063  EDUCATIONAL INSIGHTS FLUORESCENT LIGHT FILTERS...         3   \n",
       "5  p069063  Last to Finish: A Story About the Smartest Boy...         1   \n",
       "6  p069063  Mrs. Gorski, I Think I Have the Wiggle Fidgets...         1   \n",
       "7  p069063  See-N-Read 1503905CQ Reading Tool - Book Size,...         2   \n",
       "8  p096795  Brewster WPD90218 Wall Pops Flirt Dot, Set of ...         2   \n",
       "9  p096795  Brewster Wall Pops WPE99065 Peel & Stick Calyp...         2   \n",
       "\n",
       "    price  total_price  \n",
       "0  149.00       149.00  \n",
       "1   14.95        44.85  \n",
       "2    8.45         8.45  \n",
       "3   13.59        27.18  \n",
       "4   24.95        74.85  \n",
       "5   16.99        16.99  \n",
       "6    9.95         9.95  \n",
       "7   10.11        20.22  \n",
       "8    9.95        19.90  \n",
       "9    9.02        18.04  "
      ]
     },
     "execution_count": 4,
     "metadata": {},
     "output_type": "execute_result"
    }
   ],
   "source": [
    "train_df = pd.concat([train_df, total_price], axis=1)\n",
    "train_df.head(10)"
   ]
  },
  {
   "cell_type": "code",
   "execution_count": 5,
   "metadata": {},
   "outputs": [
    {
     "data": {
      "text/plain": [
       "id\n",
       "p000001     4\n",
       "p000002    14\n",
       "p000003     4\n",
       "p000004    95\n",
       "p000005     4\n",
       "p000006     5\n",
       "p000007     1\n",
       "p000008    80\n",
       "p000009    38\n",
       "p000010     1\n",
       "dtype: int64"
      ]
     },
     "execution_count": 5,
     "metadata": {},
     "output_type": "execute_result"
    }
   ],
   "source": [
    "grouped_by_id = train_df.groupby('id')\n",
    "grouped_by_id.size().head(10)"
   ]
  },
  {
   "cell_type": "code",
   "execution_count": 6,
   "metadata": {},
   "outputs": [],
   "source": [
    "import functools\n",
    "\n",
    "def f_reduce_sum(list):\n",
    "    val = functools.reduce(lambda x, y: x + y, list)\n",
    "    return round(val, 2)\n",
    "\n",
    "def f_reduce_concat(list):\n",
    "    return functools.reduce(lambda x, y: str(x).replace('\\n','') + ' ' + str(y).replace('\\n',''), list)"
   ]
  },
  {
   "cell_type": "code",
   "execution_count": 7,
   "metadata": {
    "scrolled": false
   },
   "outputs": [
    {
     "data": {
      "text/html": [
       "<div>\n",
       "<style scoped>\n",
       "    .dataframe tbody tr th:only-of-type {\n",
       "        vertical-align: middle;\n",
       "    }\n",
       "\n",
       "    .dataframe tbody tr th {\n",
       "        vertical-align: top;\n",
       "    }\n",
       "\n",
       "    .dataframe thead th {\n",
       "        text-align: right;\n",
       "    }\n",
       "</style>\n",
       "<table border=\"1\" class=\"dataframe\">\n",
       "  <thead>\n",
       "    <tr style=\"text-align: right;\">\n",
       "      <th></th>\n",
       "      <th>total_price</th>\n",
       "    </tr>\n",
       "    <tr>\n",
       "      <th>id</th>\n",
       "      <th></th>\n",
       "    </tr>\n",
       "  </thead>\n",
       "  <tbody>\n",
       "    <tr>\n",
       "      <th>p000001</th>\n",
       "      <td>833.63</td>\n",
       "    </tr>\n",
       "    <tr>\n",
       "      <th>p000002</th>\n",
       "      <td>630.28</td>\n",
       "    </tr>\n",
       "    <tr>\n",
       "      <th>p000003</th>\n",
       "      <td>298.97</td>\n",
       "    </tr>\n",
       "    <tr>\n",
       "      <th>p000004</th>\n",
       "      <td>1126.22</td>\n",
       "    </tr>\n",
       "    <tr>\n",
       "      <th>p000005</th>\n",
       "      <td>702.31</td>\n",
       "    </tr>\n",
       "    <tr>\n",
       "      <th>p000006</th>\n",
       "      <td>130.62</td>\n",
       "    </tr>\n",
       "    <tr>\n",
       "      <th>p000007</th>\n",
       "      <td>947.88</td>\n",
       "    </tr>\n",
       "    <tr>\n",
       "      <th>p000008</th>\n",
       "      <td>296.99</td>\n",
       "    </tr>\n",
       "    <tr>\n",
       "      <th>p000009</th>\n",
       "      <td>335.40</td>\n",
       "    </tr>\n",
       "    <tr>\n",
       "      <th>p000010</th>\n",
       "      <td>332.40</td>\n",
       "    </tr>\n",
       "  </tbody>\n",
       "</table>\n",
       "</div>"
      ],
      "text/plain": [
       "         total_price\n",
       "id                  \n",
       "p000001       833.63\n",
       "p000002       630.28\n",
       "p000003       298.97\n",
       "p000004      1126.22\n",
       "p000005       702.31\n",
       "p000006       130.62\n",
       "p000007       947.88\n",
       "p000008       296.99\n",
       "p000009       335.40\n",
       "p000010       332.40"
      ]
     },
     "execution_count": 7,
     "metadata": {},
     "output_type": "execute_result"
    }
   ],
   "source": [
    "train_df = grouped_by_id.agg({\n",
    "#            'description': f_reduce_concat,\n",
    "            'total_price': f_reduce_sum})\n",
    "train_df.head(10)"
   ]
  },
  {
   "cell_type": "code",
   "execution_count": 8,
   "metadata": {},
   "outputs": [
    {
     "name": "stdout",
     "output_type": "stream",
     "text": [
      "<class 'pandas.core.frame.DataFrame'>\n",
      "Index: 260115 entries, p000001 to p260115\n",
      "Data columns (total 1 columns):\n",
      "total_price    260115 non-null float64\n",
      "dtypes: float64(1)\n",
      "memory usage: 4.0+ MB\n"
     ]
    }
   ],
   "source": [
    "train_df.info()"
   ]
  },
  {
   "cell_type": "code",
   "execution_count": 9,
   "metadata": {},
   "outputs": [],
   "source": [
    "train_df.to_csv(\"B01.csv\", index=True)"
   ]
  },
  {
   "cell_type": "code",
   "execution_count": null,
   "metadata": {},
   "outputs": [],
   "source": []
  }
 ],
 "metadata": {
  "kernelspec": {
   "display_name": "Python 3",
   "language": "python",
   "name": "python3"
  },
  "language_info": {
   "codemirror_mode": {
    "name": "ipython",
    "version": 3
   },
   "file_extension": ".py",
   "mimetype": "text/x-python",
   "name": "python",
   "nbconvert_exporter": "python",
   "pygments_lexer": "ipython3",
   "version": "3.6.6"
  }
 },
 "nbformat": 4,
 "nbformat_minor": 2
}
