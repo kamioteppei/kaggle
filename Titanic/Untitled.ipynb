{
 "cells": [
  {
   "cell_type": "code",
   "execution_count": 1,
   "metadata": {},
   "outputs": [
    {
     "name": "stdout",
     "output_type": "stream",
     "text": [
      "/opt/conda/bin/python\r\n"
     ]
    }
   ],
   "source": [
    "!which python"
   ]
  },
  {
   "cell_type": "code",
   "execution_count": 2,
   "metadata": {},
   "outputs": [
    {
     "name": "stdout",
     "output_type": "stream",
     "text": [
      "Python 3.7.0\r\n"
     ]
    }
   ],
   "source": [
    "!python --version"
   ]
  },
  {
   "cell_type": "code",
   "execution_count": 3,
   "metadata": {},
   "outputs": [
    {
     "data": {
      "text/plain": [
       "['',\n",
       " '/notebooks/kaggle/Titanic',\n",
       " '/opt/conda/lib/python37.zip',\n",
       " '/opt/conda/lib/python3.7',\n",
       " '/opt/conda/lib/python3.7/lib-dynload',\n",
       " '/opt/conda/lib/python3.7/site-packages',\n",
       " '/opt/conda/lib/python3.7/site-packages/IPython/extensions',\n",
       " '/root/.ipython']"
      ]
     },
     "execution_count": 3,
     "metadata": {},
     "output_type": "execute_result"
    }
   ],
   "source": [
    "import sys\n",
    "sys.path"
   ]
  },
  {
   "cell_type": "code",
   "execution_count": 4,
   "metadata": {},
   "outputs": [
    {
     "name": "stdout",
     "output_type": "stream",
     "text": [
      "Package            Version    \r\n",
      "------------------ -----------\r\n",
      "asn1crypto         0.24.0     \r\n",
      "backcall           0.1.0      \r\n",
      "beautifulsoup4     4.6.3      \r\n",
      "bleach             3.0.2      \r\n",
      "certifi            2018.10.15 \r\n",
      "cffi               1.11.5     \r\n",
      "chardet            3.0.4      \r\n",
      "cloudpickle        0.6.1      \r\n",
      "conda              4.5.11     \r\n",
      "conda-build        3.16.1     \r\n",
      "cryptography       2.3.1      \r\n",
      "cycler             0.10.0     \r\n",
      "dask               0.19.4     \r\n",
      "decorator          4.3.0      \r\n",
      "entrypoints        0.2.3      \r\n",
      "filelock           3.0.9      \r\n",
      "glob2              0.6        \r\n",
      "h5py               2.8.0      \r\n",
      "idna               2.7        \r\n",
      "imageio            2.4.1      \r\n",
      "ipykernel          5.1.0      \r\n",
      "ipython            7.0.1      \r\n",
      "ipython-genutils   0.2.0      \r\n",
      "ipywidgets         7.4.2      \r\n",
      "jedi               0.13.1     \r\n",
      "Jinja2             2.10       \r\n",
      "jsonschema         2.6.0      \r\n",
      "jupyter            1.0.0      \r\n",
      "jupyter-client     5.2.3      \r\n",
      "jupyter-console    6.0.0      \r\n",
      "jupyter-core       4.4.0      \r\n",
      "kiwisolver         1.0.1      \r\n",
      "libarchive-c       2.8        \r\n",
      "MarkupSafe         1.0        \r\n",
      "matplotlib         3.0.0      \r\n",
      "mistune            0.8.4      \r\n",
      "mkl-fft            1.0.6      \r\n",
      "mkl-random         1.0.1      \r\n",
      "nbconvert          5.3.1      \r\n",
      "nbformat           4.4.0      \r\n",
      "networkx           2.2        \r\n",
      "notebook           5.7.0      \r\n",
      "numpy              1.15.2     \r\n",
      "olefile            0.46       \r\n",
      "opencv-python      3.4.3.18   \r\n",
      "pandas             0.23.4     \r\n",
      "pandocfilters      1.4.2      \r\n",
      "parso              0.3.1      \r\n",
      "patsy              0.5.0      \r\n",
      "pexpect            4.6.0      \r\n",
      "pickleshare        0.7.5      \r\n",
      "Pillow             5.3.0      \r\n",
      "pip                18.1       \r\n",
      "pkginfo            1.4.2      \r\n",
      "prometheus-client  0.4.2      \r\n",
      "prompt-toolkit     2.0.6      \r\n",
      "psutil             5.4.7      \r\n",
      "ptyprocess         0.6.0      \r\n",
      "pycosat            0.6.3      \r\n",
      "pycparser          2.18       \r\n",
      "Pygments           2.2.0      \r\n",
      "pyOpenSSL          18.0.0     \r\n",
      "pyparsing          2.2.2      \r\n",
      "PySocks            1.6.8      \r\n",
      "python-dateutil    2.7.3      \r\n",
      "pytz               2018.5     \r\n",
      "PyWavelets         1.0.1      \r\n",
      "PyYAML             3.13       \r\n",
      "pyzmq              17.1.2     \r\n",
      "qtconsole          4.4.2      \r\n",
      "requests           2.19.1     \r\n",
      "ruamel-yaml        0.15.46    \r\n",
      "scikit-image       0.14.0     \r\n",
      "scikit-learn       0.20.0     \r\n",
      "scipy              1.1.0      \r\n",
      "seaborn            0.9.0      \r\n",
      "Send2Trash         1.5.0      \r\n",
      "setuptools         40.2.0     \r\n",
      "simplegeneric      0.8.1      \r\n",
      "six                1.11.0     \r\n",
      "statsmodels        0.9.0      \r\n",
      "terminado          0.8.1      \r\n",
      "testpath           0.4.2      \r\n",
      "toolz              0.9.0      \r\n",
      "torch              0.4.1.post2\r\n",
      "torchvision        0.2.1      \r\n",
      "tornado            5.1.1      \r\n",
      "tqdm               4.26.0     \r\n",
      "traitlets          4.3.2      \r\n",
      "urllib3            1.23       \r\n",
      "wcwidth            0.1.7      \r\n",
      "webencodings       0.5.1      \r\n",
      "wheel              0.31.1     \r\n",
      "widgetsnbextension 3.4.2      \r\n"
     ]
    }
   ],
   "source": [
    "!pip list"
   ]
  },
  {
   "cell_type": "code",
   "execution_count": 5,
   "metadata": {
    "scrolled": false
   },
   "outputs": [
    {
     "name": "stdout",
     "output_type": "stream",
     "text": [
      "# packages in environment at /opt/conda:\r\n",
      "#\r\n",
      "# Name                    Version                   Build  Channel\r\n",
      "asn1crypto                0.24.0                   py37_0  \r\n",
      "backcall                  0.1.0                    py37_0  \r\n",
      "beautifulsoup4            4.6.3                    py37_0  \r\n",
      "blas                      1.0                         mkl  \r\n",
      "bleach                    3.0.2                    py37_0  \r\n",
      "bzip2                     1.0.6                h14c3975_5  \r\n",
      "ca-certificates           2018.03.07                    0  \r\n",
      "certifi                   2018.10.15               py37_0  \r\n",
      "cffi                      1.11.5           py37he75722e_1  \r\n",
      "chardet                   3.0.4                    py37_1  \r\n",
      "cloudpickle               0.6.1                    py37_0  \r\n",
      "conda                     4.5.11                   py37_0  \r\n",
      "conda-build               3.16.1                   py37_0  \r\n",
      "conda-env                 2.6.0                         1  \r\n",
      "cryptography              2.3.1            py37hc365091_0  \r\n",
      "cuda90                    1.0                  h6433d27_0    pytorch\r\n",
      "cycler                    0.10.0                   py37_0  \r\n",
      "dask-core                 0.19.4                   py37_0  \r\n",
      "dbus                      1.13.2               h714fa37_1  \r\n",
      "decorator                 4.3.0                    py37_0  \r\n",
      "entrypoints               0.2.3                    py37_2  \r\n",
      "expat                     2.2.6                he6710b0_0  \r\n",
      "filelock                  3.0.9                    py37_0  \r\n",
      "fontconfig                2.13.0               h9420a91_0  \r\n",
      "freetype                  2.9.1                h8a8886c_1  \r\n",
      "glib                      2.56.2               hd408876_0  \r\n",
      "glob2                     0.6                      py37_1  \r\n",
      "gmp                       6.1.2                h6c8ec71_1  \r\n",
      "gst-plugins-base          1.14.0               hbbd80ab_1  \r\n",
      "gstreamer                 1.14.0               hb453b48_1  \r\n",
      "h5py                      2.8.0            py37h989c5e5_3  \r\n",
      "hdf5                      1.10.2               hba1933b_1  \r\n",
      "icu                       58.2                 h9c2bf20_1  \r\n",
      "idna                      2.7                      py37_0  \r\n",
      "imageio                   2.4.1                    py37_0  \r\n",
      "intel-openmp              2019.0                      118  \r\n",
      "ipykernel                 5.1.0            py37h39e3cac_0  \r\n",
      "ipython                   7.0.1            py37h39e3cac_0  \r\n",
      "ipython_genutils          0.2.0                    py37_0  \r\n",
      "ipywidgets                7.4.2                    py37_0  \r\n",
      "jedi                      0.13.1                   py37_0  \r\n",
      "jinja2                    2.10                     py37_0  \r\n",
      "jpeg                      9b                   h024ee3a_2  \r\n",
      "jsonschema                2.6.0                    py37_0  \r\n",
      "jupyter                   1.0.0                    py37_7  \r\n",
      "jupyter_client            5.2.3                    py37_0  \r\n",
      "jupyter_console           6.0.0                    py37_0  \r\n",
      "jupyter_core              4.4.0                    py37_0  \r\n",
      "kiwisolver                1.0.1            py37hf484d3e_0  \r\n",
      "libarchive                3.3.3                h7d0bbab_1  \r\n",
      "libedit                   3.1.20170329         h6b74fdf_2  \r\n",
      "libffi                    3.2.1                hd88cf55_4  \r\n",
      "libgcc-ng                 8.2.0                hdf63c60_1  \r\n",
      "libgfortran-ng            7.3.0                hdf63c60_0  \r\n",
      "libpng                    1.6.35               hbc83047_0  \r\n",
      "libsodium                 1.0.16               h1bed415_0  \r\n",
      "libstdcxx-ng              8.2.0                hdf63c60_1  \r\n",
      "libtiff                   4.0.9                he85c1e1_2  \r\n",
      "libuuid                   1.0.3                h1bed415_2  \r\n",
      "libxcb                    1.13                 h1bed415_1  \r\n",
      "libxml2                   2.9.8                h26e45fe_1  \r\n",
      "lz4-c                     1.8.1.2              h14c3975_0  \r\n",
      "lzo                       2.10                 h49e0be7_2  \r\n",
      "markupsafe                1.0              py37h14c3975_1  \r\n",
      "matplotlib                3.0.0            py37h5429711_0  \r\n",
      "mistune                   0.8.4            py37h7b6447c_0  \r\n",
      "mkl                       2019.0                      118  \r\n",
      "mkl_fft                   1.0.6            py37h7dd41cf_0  \r\n",
      "mkl_random                1.0.1            py37h4414c95_1  \r\n",
      "nbconvert                 5.3.1                    py37_0  \r\n",
      "nbformat                  4.4.0                    py37_0  \r\n",
      "ncurses                   6.1                  hf484d3e_0  \r\n",
      "networkx                  2.2                      py37_1  \r\n",
      "ninja                     1.8.2            py37h6bb024c_1  \r\n",
      "notebook                  5.7.0                    py37_0  \r\n",
      "numpy                     1.15.2           py37h1d66e8a_1  \r\n",
      "numpy-base                1.15.2           py37h81de0dd_1  \r\n",
      "olefile                   0.46                     py37_0  \r\n",
      "opencv-python             3.4.3.18                  <pip>\r\n",
      "openssl                   1.0.2p               h14c3975_0  \r\n",
      "pandas                    0.23.4           py37h04863e7_0  \r\n",
      "pandoc                    2.2.3.2                       0  \r\n",
      "pandocfilters             1.4.2                    py37_1  \r\n",
      "parso                     0.3.1                    py37_0  \r\n",
      "patchelf                  0.9                  he6710b0_3  \r\n",
      "patsy                     0.5.0                    py37_0  \r\n",
      "pcre                      8.42                 h439df22_0  \r\n",
      "pexpect                   4.6.0                    py37_0  \r\n",
      "pickleshare               0.7.5                    py37_0  \r\n",
      "pillow                    5.3.0            py37h34e0f95_0  \r\n",
      "pip                       18.1                      <pip>\r\n",
      "pip                       10.0.1                   py37_0  \r\n",
      "pkginfo                   1.4.2                    py37_1  \r\n",
      "prometheus_client         0.4.2                    py37_0  \r\n",
      "prompt_toolkit            2.0.6                    py37_0  \r\n",
      "psutil                    5.4.7            py37h14c3975_0  \r\n",
      "ptyprocess                0.6.0                    py37_0  \r\n",
      "pycosat                   0.6.3            py37h14c3975_0  \r\n",
      "pycparser                 2.18                     py37_1  \r\n",
      "pygments                  2.2.0                    py37_0  \r\n",
      "pyopenssl                 18.0.0                   py37_0  \r\n",
      "pyparsing                 2.2.2                    py37_0  \r\n",
      "pyqt                      5.9.2            py37h05f1152_2  \r\n",
      "pysocks                   1.6.8                    py37_0  \r\n",
      "python                    3.7.0                hc3d631a_0  \r\n",
      "python-dateutil           2.7.3                    py37_0  \r\n",
      "python-libarchive-c       2.8                      py37_6  \r\n",
      "pytorch                   0.4.1           py37_py36_py35_py27__9.0.176_7.1.2_2    pytorch\r\n",
      "pytz                      2018.5                   py37_0  \r\n",
      "pywavelets                1.0.1            py37hdd07704_0  \r\n",
      "pyyaml                    3.13             py37h14c3975_0  \r\n",
      "pyzmq                     17.1.2           py37h14c3975_0  \r\n",
      "qt                        5.9.6                h8703b6f_2  \r\n",
      "qtconsole                 4.4.2                    py37_0  \r\n",
      "readline                  7.0                  h7b6447c_5  \r\n",
      "requests                  2.19.1                   py37_0  \r\n",
      "ruamel_yaml               0.15.46          py37h14c3975_0  \r\n",
      "scikit-image              0.14.0           py37hf484d3e_1  \r\n",
      "scikit-learn              0.20.0           py37h4989274_1  \r\n",
      "scipy                     1.1.0            py37hfa4b5c9_1  \r\n",
      "seaborn                   0.9.0                    py37_0  \r\n",
      "send2trash                1.5.0                    py37_0  \r\n",
      "setuptools                40.2.0                   py37_0  \r\n",
      "simplegeneric             0.8.1                    py37_2  \r\n",
      "sip                       4.19.8           py37hf484d3e_0  \r\n",
      "six                       1.11.0                   py37_1  \r\n",
      "sqlite                    3.24.0               h84994c4_0  \r\n",
      "statsmodels               0.9.0            py37h035aef0_0  \r\n",
      "terminado                 0.8.1                    py37_1  \r\n",
      "testpath                  0.4.2                    py37_0  \r\n",
      "tk                        8.6.8                hbc83047_0  \r\n",
      "toolz                     0.9.0                    py37_0  \r\n",
      "torchvision               0.2.1                     <pip>\r\n",
      "tornado                   5.1.1            py37h7b6447c_0  \r\n",
      "tqdm                      4.26.0           py37h28b3542_0  \r\n",
      "traitlets                 4.3.2                    py37_0  \r\n",
      "urllib3                   1.23                     py37_0  \r\n",
      "wcwidth                   0.1.7                    py37_0  \r\n",
      "webencodings              0.5.1                    py37_1  \r\n",
      "wheel                     0.31.1                   py37_0  \r\n",
      "widgetsnbextension        3.4.2                    py37_0  \r\n",
      "xz                        5.2.4                h14c3975_4  \r\n",
      "yaml                      0.1.7                had09818_2  \r\n",
      "zeromq                    4.2.5                hf484d3e_1  \r\n",
      "zlib                      1.2.11               ha838bed_2  \r\n",
      "zstd                      1.3.3                h84994c4_0  \r\n"
     ]
    }
   ],
   "source": [
    "!conda list"
   ]
  },
  {
   "cell_type": "code",
   "execution_count": null,
   "metadata": {},
   "outputs": [],
   "source": [
    "import torch"
   ]
  },
  {
   "cell_type": "code",
   "execution_count": null,
   "metadata": {},
   "outputs": [],
   "source": [
    "import numpy"
   ]
  },
  {
   "cell_type": "code",
   "execution_count": null,
   "metadata": {},
   "outputs": [],
   "source": [
    "import pandas"
   ]
  },
  {
   "cell_type": "code",
   "execution_count": null,
   "metadata": {},
   "outputs": [],
   "source": [
    "import xgboost"
   ]
  },
  {
   "cell_type": "code",
   "execution_count": null,
   "metadata": {},
   "outputs": [],
   "source": [
    "import pytorch"
   ]
  },
  {
   "cell_type": "code",
   "execution_count": null,
   "metadata": {},
   "outputs": [],
   "source": [
    "!pip install xgboost"
   ]
  },
  {
   "cell_type": "code",
   "execution_count": null,
   "metadata": {},
   "outputs": [],
   "source": []
  },
  {
   "cell_type": "code",
   "execution_count": null,
   "metadata": {},
   "outputs": [],
   "source": []
  }
 ],
 "metadata": {
  "kernelspec": {
   "display_name": "Python 3",
   "language": "python",
   "name": "python3"
  },
  "language_info": {
   "codemirror_mode": {
    "name": "ipython",
    "version": 3
   },
   "file_extension": ".py",
   "mimetype": "text/x-python",
   "name": "python",
   "nbconvert_exporter": "python",
   "pygments_lexer": "ipython3",
   "version": "3.7.0"
  }
 },
 "nbformat": 4,
 "nbformat_minor": 2
}
